{
 "cells": [
  {
   "cell_type": "markdown",
   "id": "8dd2d4d1",
   "metadata": {},
   "source": [
    "# Creating the model that will be used for classifying financial sentences on Streamlit API"
   ]
  },
  {
   "cell_type": "code",
   "execution_count": 8,
   "id": "84c5c1ea",
   "metadata": {},
   "outputs": [],
   "source": [
    "import requests\n",
    "import pandas as pd\n",
    "import re\n",
    "import nltk\n",
    "import numpy as np\n",
    "import torch\n",
    "import transformers as ppb\n",
    "from numpy import linspace\n",
    "from sklearn.model_selection import GridSearchCV\n",
    "import matplotlib.pyplot as plt\n",
    "#from wordcloud import WordCloud\n",
    "import seaborn as sns\n",
    "import pysentiment2 as ps\n",
    "from keras.models import model_from_json\n",
    "from keras.layers import Dense\n",
    "from keras.models import Sequential\n",
    "#from keras.utils.np_utils import to_categorical\n",
    "from keras.callbacks import EarlyStopping\n",
    "#from keras.optimizers import SGD doesnt work\n",
    "import scikeras\n",
    "from scikeras.wrappers import KerasClassifier\n",
    "import keras.optimizers\n",
    "import os\n",
    "import tensorflow as tf\n",
    "#from keras.optimizers import RMSprop doesnt work\n",
    "#from prettytable import PrettyTable\n",
    "from sklearn.feature_extraction.text import CountVectorizer\n",
    "from sklearn.naive_bayes import MultinomialNB\n",
    "from sklearn.model_selection import train_test_split\n",
    "from sklearn import metrics\n",
    "from sklearn import preprocessing\n",
    "from tensorflow.keras.optimizers import RMSprop\n",
    "import pickle\n",
    "import torch\n",
    "import numpy as np\n",
    "import pandas as pd\n",
    "from transformers import BertTokenizer, BertModel\n",
    "from tqdm.notebook import tqdm  # better for Jupyter\n",
    "import streamlit as st"
   ]
  },
  {
   "cell_type": "code",
   "execution_count": 9,
   "id": "2e449ce3",
   "metadata": {},
   "outputs": [
    {
     "name": "stderr",
     "output_type": "stream",
     "text": [
      "2025-10-02 13:36:46.480 WARNING streamlit.runtime.scriptrunner_utils.script_run_context: Thread 'MainThread': missing ScriptRunContext! This warning can be ignored when running in bare mode.\n",
      "2025-10-02 13:36:47.028 \n",
      "  \u001b[33m\u001b[1mWarning:\u001b[0m to view this Streamlit app on a browser, run it with the following\n",
      "  command:\n",
      "\n",
      "    streamlit run C:\\Users\\xeb15154\\AppData\\Local\\anaconda3\\Lib\\site-packages\\ipykernel_launcher.py [ARGUMENTS]\n",
      "2025-10-02 13:36:47.043 Thread 'MainThread': missing ScriptRunContext! This warning can be ignored when running in bare mode.\n",
      "2025-10-02 13:36:47.043 Thread 'MainThread': missing ScriptRunContext! This warning can be ignored when running in bare mode.\n"
     ]
    },
    {
     "data": {
      "text/plain": [
       "DeltaGenerator()"
      ]
     },
     "execution_count": 9,
     "metadata": {},
     "output_type": "execute_result"
    }
   ],
   "source": [
    "#Setting up the apps title\n",
    "st.title(\"💹 Financial Sentiment Classifier\")"
   ]
  },
  {
   "cell_type": "code",
   "execution_count": null,
   "id": "e68f5946",
   "metadata": {},
   "outputs": [],
   "source": [
    "#take in the apps input\n",
    "user_input = st.text_area(\"Enter financial text:\", \"\")"
   ]
  },
  {
   "cell_type": "code",
   "execution_count": null,
   "id": "6e39c313",
   "metadata": {},
   "outputs": [],
   "source": [
    "# Load FinBERT model and tokenizer\n",
    "tokenizer = AutoTokenizer.from_pretrained(\"yiyanghkust/finbert-tone\")\n",
    "model = AutoModel.from_pretrained(\"yiyanghkust/finbert-tone\")\n",
    "device = torch.device(\"cuda\" if torch.cuda.is_available() else \"cpu\")\n",
    "model.to(device)\n",
    "\n",
    "def get_cls_embeddings(texts, batch_size=4):\n",
    "    model.eval()\n",
    "    all_embeddings = []\n",
    "\n",
    "    for i in tqdm(range(0, len(texts), batch_size)):\n",
    "        batch = texts[i:i + batch_size]\n",
    "\n",
    "        encoded = tokenizer.batch_encode_plus(\n",
    "            batch,\n",
    "            add_special_tokens=True,\n",
    "            padding=\"longest\",\n",
    "            truncation=True,\n",
    "            max_length=512,\n",
    "            return_tensors=\"pt\"\n",
    "        )\n",
    "\n",
    "        input_ids = encoded[\"input_ids\"].to(device)\n",
    "        attention_mask = encoded[\"attention_mask\"].to(device)\n",
    "\n",
    "        with torch.no_grad():\n",
    "            outputs = model(input_ids=input_ids, attention_mask=attention_mask)\n",
    "            cls_embeddings = outputs.last_hidden_state[:, 0, :]  # [CLS] token\n",
    "            all_embeddings.append(cls_embeddings.cpu().numpy())\n",
    "\n",
    "    return np.vstack(all_embeddings)"
   ]
  },
  {
   "cell_type": "code",
   "execution_count": null,
   "id": "ebc0da51",
   "metadata": {},
   "outputs": [],
   "source": [
    "#take in the apps input\n",
    "user_input = st.text_area(\"Enter financial text:\", \"\")"
   ]
  },
  {
   "cell_type": "code",
   "execution_count": null,
   "id": "512a89aa",
   "metadata": {},
   "outputs": [],
   "source": [
    "#generate embeddings for Xtrain and Xtest\n",
    "X_embeddings = get_cls_embeddings([User_input], batch_size=4)"
   ]
  },
  {
   "cell_type": "code",
   "execution_count": null,
   "id": "aa9c39d8",
   "metadata": {},
   "outputs": [],
   "source": [
    "# Loading model\n",
    "os.chdir('C:/Users/xeb15154/OneDrive - University of Strathclyde/Financial Sentiment Analysis Project/')\n",
    "with open(\"model_text.pkl\", \"rb\") as f:\n",
    "    model_text = pickle.load(f)"
   ]
  },
  {
   "cell_type": "code",
   "execution_count": null,
   "id": "ca38320d",
   "metadata": {},
   "outputs": [],
   "source": [
    "probs = model_text.predict(X_embeddings)\n",
    "\n",
    "class_labels = [\"neutral\",\"positive\",\"negative\"]\n",
    "\n",
    "predicted_index = np.argmax(probs)\n",
    "predicted_label = class_labels[predicted_index]\n",
    "predicted_confidence = probs[0][predicted_index]\n",
    "print(f\"Predicted Sentiment: {predicted_label} ({predicted_confidence:.2f})\")"
   ]
  }
 ],
 "metadata": {
  "kernelspec": {
   "display_name": "Python 3 (ipykernel)",
   "language": "python",
   "name": "python3"
  },
  "language_info": {
   "codemirror_mode": {
    "name": "ipython",
    "version": 3
   },
   "file_extension": ".py",
   "mimetype": "text/x-python",
   "name": "python",
   "nbconvert_exporter": "python",
   "pygments_lexer": "ipython3",
   "version": "3.11.5"
  }
 },
 "nbformat": 4,
 "nbformat_minor": 5
}
